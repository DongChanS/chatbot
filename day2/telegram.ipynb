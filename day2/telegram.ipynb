{
 "cells": [
  {
   "cell_type": "code",
   "execution_count": 2,
   "metadata": {},
   "outputs": [],
   "source": [
    "key = \"628829631:AAFpHO-RChiJqxOeudFf8XYj77cYpQDqzVE\"\n",
    "\n",
    "url = \"https://api.telegram.org/bot%s/\"%(key)\n",
    "\n",
    "user_id = \"750966981\""
   ]
  },
  {
   "cell_type": "code",
   "execution_count": 3,
   "metadata": {},
   "outputs": [],
   "source": [
    "import requests\n",
    "from time import sleep\n",
    "from bs4 import BeautifulSoup\n",
    "def send_message(message):\n",
    "    message_url = url + \"sendMessage?chat_id=%s&text=%s\"%(user_id,message)\n",
    "    requests.get(message_url)\n",
    "    sleep(1)\n"
   ]
  },
  {
   "cell_type": "code",
   "execution_count": 4,
   "metadata": {},
   "outputs": [],
   "source": [
    "def send_naver_hot():\n",
    "    naver_url = 'https://www.naver.com/'\n",
    "    soup = BeautifulSoup(requests.get(naver_url).text,'html.parser')\n",
    "    hot_keywords = soup.select('.ah_k')\n",
    "    hot_links = soup.select('.ah_a')\n",
    "    message = \"\"\n",
    "    for x in range(5):\n",
    "        message += \"\\n %s위 검색어 : %s\"%(x+1,hot_keywords[x].text)\n",
    "        link = 'https://search.naver.com/search.naver?query=%s'%(hot_keywords[x].text)\n",
    "        message += '\\n 링크는 %s 입니다.'%(link)\n",
    "    \n",
    "    send_message(message)\n",
    "        \n",
    "send_naver_hot()"
   ]
  },
  {
   "cell_type": "code",
   "execution_count": 6,
   "metadata": {},
   "outputs": [],
   "source": [
    "from selenium import webdriver\n",
    "\n",
    "browser = webdriver.Firefox()\n",
    "timon_url = 'http://www.ticketmonster.co.kr/home'\n",
    "browser.get(timon_url)\n",
    "\n",
    "page_source = browser.page_source"
   ]
  },
  {
   "cell_type": "code",
   "execution_count": 7,
   "metadata": {},
   "outputs": [],
   "source": [
    "soup = BeautifulSoup(page_source,'html.parser')\n",
    "\n",
    "items = soup.select('.')[:24]"
   ]
  },
  {
   "cell_type": "code",
   "execution_count": 47,
   "metadata": {},
   "outputs": [],
   "source": [
    "titles = soup.select('.title_name')[:24]\n",
    "prices = soup.select('.price_area > .price > .price')[:24]\n",
    "buy_counts = soup.select('.buy_count')[:24]\n",
    "links = soup.select('.item > .anchor')[:24]\n",
    "\n",
    "whole_tags = [titles,prices,buy_counts,links]\n",
    "\n",
    "whole_items = [[e.text for e in tag] for tag in whole_tags]"
   ]
  },
  {
   "cell_type": "code",
   "execution_count": 48,
   "metadata": {},
   "outputs": [
    {
     "data": {
      "text/plain": [
       "['[티몬균일가] B급식기 땡처리 라면기/보온병/나눔접시',\n",
       " '[몬스터세일] 로엠걸즈+치크+셀덴440종/ 여아 종합전 최대 88% 겨울아이템 모음',\n",
       " '[티몬균일가] 애프리콧 따뜻도톰 니트/가디건/조끼 오늘만진행',\n",
       " '[포트메리온] 올해를 빛낸 수입주방 200종 총결산',\n",
       " '[몬스터세일] SOUP/VISIT 12월 연말감사 빅세일전',\n",
       " '[해피머니] 온라인상품권 10만원권',\n",
       " '[불온기] 핫팩 강추위대비/당일발송/ 2018년 국내생산 고품질 핫팩 ',\n",
       " '[몬스터세일] GS수퍼마켓 2만원권',\n",
       " '[티몬균일가] 라인프렌즈 손난로 핫팩 인형 1+1',\n",
       " '[월간베스트] 236 아기물티슈 100매 10팩',\n",
       " '[티몬균일가] 해외 유명 원서/ 미국 교과 과정 필수교재',\n",
       " '[티몬균일가] 달리샵 핫한신상 슬랙스 원피스 브라우스 니트 자켓 폴라 후드 외 73종',\n",
       " '[몬스터세일] 네파키즈 신상다운 72%/ 네비아다운 / 패트릭다운 아동롱패딩 등',\n",
       " '[티몬균일가] 셉템버마치 남성 여성 양말 35종',\n",
       " '[단하루] 바디홀릭 바디미스트 1+1+1 민트/라임런칭',\n",
       " '[티몬균일가] 제주농협 귤로장생 황금향/감귤/한라봉 모음전',\n",
       " '[단하루] 럭스 레드드롭 립큐어 자기전에도 OK 천연유래틴트',\n",
       " '[티몬균일가] 기모 융털 레깅스 1+1 올해 마지막 세일 이벤트',\n",
       " '[블랙마틴싯봉] 슈즈/잡화 연말결산 최대94%세일',\n",
       " '[단하루] 의류/이불 압축팩 1+1+1+1',\n",
       " '[단하루] 올바른 찰순대1kg 1+1+1 총 3kg 단독진행',\n",
       " '[단하루] 라입 R3 아르간 헤어오일 1+1 뿌리는 헤어트리트먼트 1+1',\n",
       " '[AHC] 신상런칭 미니멀10 스페셜 기프트세트',\n",
       " '[티몬균일가] 네모 핸드카트 대용량 61L +고정끈 무료증정']"
      ]
     },
     "execution_count": 48,
     "metadata": {},
     "output_type": "execute_result"
    }
   ],
   "source": [
    "whole_items[0]"
   ]
  },
  {
   "cell_type": "code",
   "execution_count": 28,
   "metadata": {},
   "outputs": [
    {
     "name": "stdout",
     "output_type": "stream",
     "text": [
      "[티몬균일가] 네모 핸드카트 대용량 61L +고정끈 무료증정\n"
     ]
    }
   ],
   "source": [
    "title = titles[-1].text\n",
    "print(title)\n"
   ]
  },
  {
   "cell_type": "code",
   "execution_count": 29,
   "metadata": {},
   "outputs": [
    {
     "data": {
      "text/plain": [
       "<li class=\"item \" data-maincategoryno=\"48100013\"> <a class=\"anchor\" href=\"http://www.ticketmonster.co.kr/deal/1699396106\" target=\"_blank\" tl:area=\"THCO\" tl:ord=\"1031\"> <div class=\"border\"> <div class=\"fig\"> <div class=\"thumb\"> <img alt=\"[단하루] 라입 R3 아르간 헤어오일 1+1 뿌리는 헤어트리트먼트 1+1\" onerror=\"$(this).hide().closest('.fig').find('.sticker:first').hide()\" src=\"http://th4.tmon.kr/thumbs/image/a5f/39b/20e/c2510a6a5_320x320_95_FIT_1544511446.jpg\"/> </div> <div class=\"sticker\"> <img alt=\"단하루\" src=\"http://img3.tmon.kr/cdn2/resources/sticker/1day_0cc97.png\"/> </div> <div class=\"mask\"> <div class=\"mask_bg\"></div> <span class=\"mask_info\"></span> </div> </div> <div class=\"info\"> <p class=\"deal_list_promotion_title\">겨울철 머릿결 완벽하게 관리하기</p> <p class=\"title_name\">[단하루] 라입 R3 아르간 헤어오일 1+1 뿌리는 헤어트리트먼트 1+1</p> <div class=\"price_area\"> <strong class=\"type\">균일가</strong> <span class=\"price\"> <span class=\"original_price\"> <span class=\"blind\">원가:</span> <i class=\"num\">24,000</i>원                                            </span> <span class=\"price\"> <span class=\"blind\">판매가:</span> <i class=\"num\">4,900</i>원                                        </span> </span> </div> <div class=\"label_area\"> <span class=\"label label_CONV\">무료배송</span> <span class=\"label label_TIME\">오늘만</span> <span class=\"label label_CONV\">편의점 픽업</span> </div> <span class=\"buy_count\"><i class=\"num\">2,104</i>개 구매</span> <button class=\"btn_favorite\" type=\"button\"><span class=\"blind\">찜하기</span></button> </div> </div> </a> </li>"
      ]
     },
     "execution_count": 29,
     "metadata": {},
     "output_type": "execute_result"
    }
   ],
   "source": [
    "items[-1]"
   ]
  },
  {
   "cell_type": "code",
   "execution_count": 40,
   "metadata": {},
   "outputs": [],
   "source": [
    "buy_counts = soup.select('.buy_count')[:24]\n",
    "prices = soup.select('.price_area > .price > .price')[:24]"
   ]
  },
  {
   "cell_type": "code",
   "execution_count": 31,
   "metadata": {},
   "outputs": [
    {
     "data": {
      "text/plain": [
       "<span class=\"buy_count\"><i class=\"num\">211</i>개 구매</span>"
      ]
     },
     "execution_count": 31,
     "metadata": {},
     "output_type": "execute_result"
    }
   ],
   "source": [
    "buy_counts[-1]"
   ]
  },
  {
   "cell_type": "code",
   "execution_count": 42,
   "metadata": {},
   "outputs": [
    {
     "data": {
      "text/plain": [
       "' 판매가: 9,900원                                        '"
      ]
     },
     "execution_count": 42,
     "metadata": {},
     "output_type": "execute_result"
    }
   ],
   "source": [
    "prices[-1].text"
   ]
  },
  {
   "cell_type": "code",
   "execution_count": 45,
   "metadata": {},
   "outputs": [],
   "source": [
    "links = soup.select('.item > .anchor')"
   ]
  },
  {
   "cell_type": "code",
   "execution_count": 46,
   "metadata": {},
   "outputs": [
    {
     "data": {
      "text/plain": [
       "'http://www.ticketmonster.co.kr/deal/1704190494'"
      ]
     },
     "execution_count": 46,
     "metadata": {},
     "output_type": "execute_result"
    }
   ],
   "source": [
    "links[-1][\"href\"]"
   ]
  },
  {
   "cell_type": "code",
   "execution_count": null,
   "metadata": {},
   "outputs": [],
   "source": []
  }
 ],
 "metadata": {
  "kernelspec": {
   "display_name": "Python 3",
   "language": "python",
   "name": "python3"
  },
  "language_info": {
   "codemirror_mode": {
    "name": "ipython",
    "version": 3
   },
   "file_extension": ".py",
   "mimetype": "text/x-python",
   "name": "python",
   "nbconvert_exporter": "python",
   "pygments_lexer": "ipython3",
   "version": "3.7.0"
  }
 },
 "nbformat": 4,
 "nbformat_minor": 2
}
