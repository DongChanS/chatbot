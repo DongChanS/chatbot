{
 "cells": [
  {
   "cell_type": "code",
   "execution_count": 10,
   "metadata": {},
   "outputs": [],
   "source": [
    "key = \"628829631:AAFpHO-RChiJqxOeudFf8XYj77cYpQDqzVE\"\n",
    "\n",
    "url = \"https://api.telegram.org/bot%s/\"%(key)\n",
    "\n",
    "user_id = \"750966981\""
   ]
  },
  {
   "cell_type": "code",
   "execution_count": 15,
   "metadata": {},
   "outputs": [],
   "source": [
    "import requests\n",
    "from time import sleep\n",
    "\n",
    "def send_message(message):\n",
    "    message_url = url + \"sendMessage?chat_id=%s&text=%s\"%(user_id,message)\n",
    "    requests.get(message_url)\n",
    "    sleep(1)\n"
   ]
  },
  {
   "cell_type": "code",
   "execution_count": 26,
   "metadata": {},
   "outputs": [],
   "source": [
    "from bs4 import BeautifulSoup\n",
    "\n",
    "def send_naver_hot():\n",
    "    naver_url = 'https://www.naver.com/'\n",
    "    soup = BeautifulSoup(requests.get(naver_url).text,'html.parser')\n",
    "    hot_keywords = soup.select('.ah_k')\n",
    "    hot_links = soup.select('.ah_a')\n",
    "    message = \"\"\n",
    "    for x in range(5):\n",
    "        message += \"\\n %s위 검색어 : %s\"%(x+1,hot_keywords[x].text)\n",
    "        link = 'https://search.naver.com/search.naver?query=%s'%(hot_keywords[x].text)\n",
    "        message += '\\n 링크는 %s 입니다.'%(link)\n",
    "    \n",
    "    send_message(message)\n",
    "        \n",
    "send_naver_hot()"
   ]
  },
  {
   "cell_type": "code",
   "execution_count": 27,
   "metadata": {},
   "outputs": [
    {
     "ename": "ModuleNotFoundError",
     "evalue": "No module named 'selenium'",
     "output_type": "error",
     "traceback": [
      "\u001b[1;31m---------------------------------------------------------------------------\u001b[0m",
      "\u001b[1;31mModuleNotFoundError\u001b[0m                       Traceback (most recent call last)",
      "\u001b[1;32m<ipython-input-27-fb0e013ab724>\u001b[0m in \u001b[0;36m<module>\u001b[1;34m()\u001b[0m\n\u001b[1;32m----> 1\u001b[1;33m \u001b[1;32mfrom\u001b[0m \u001b[0mselenium\u001b[0m \u001b[1;32mimport\u001b[0m \u001b[0mwebbrowser\u001b[0m\u001b[1;33m\u001b[0m\u001b[0m\n\u001b[0m",
      "\u001b[1;31mModuleNotFoundError\u001b[0m: No module named 'selenium'"
     ]
    }
   ],
   "source": [
    "from selenium import webbrowser"
   ]
  },
  {
   "cell_type": "code",
   "execution_count": null,
   "metadata": {},
   "outputs": [],
   "source": []
  }
 ],
 "metadata": {
  "kernelspec": {
   "display_name": "Python 3",
   "language": "python",
   "name": "python3"
  },
  "language_info": {
   "codemirror_mode": {
    "name": "ipython",
    "version": 3
   },
   "file_extension": ".py",
   "mimetype": "text/x-python",
   "name": "python",
   "nbconvert_exporter": "python",
   "pygments_lexer": "ipython3",
   "version": "3.7.0"
  }
 },
 "nbformat": 4,
 "nbformat_minor": 2
}
